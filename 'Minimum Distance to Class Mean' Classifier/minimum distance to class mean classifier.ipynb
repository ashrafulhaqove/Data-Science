{
 "cells": [
  {
   "cell_type": "markdown",
   "metadata": {},
   "source": [
    "**Task 1 :\n",
    "Plot all sample points (train data) from both classes, but samples from the same class should have\n",
    "the same color and marker.**"
   ]
  },
  {
   "cell_type": "code",
   "execution_count": 1,
   "metadata": {},
   "outputs": [],
   "source": [
    "import matplotlib.pyplot as plt"
   ]
  },
  {
   "cell_type": "code",
   "execution_count": 18,
   "metadata": {},
   "outputs": [
    {
     "name": "stdout",
     "output_type": "stream",
     "text": [
      "{(2, 2): 1, (3, 1): 1, (-4, 3): 2, (3, 3): 1, (-1, -3): 1, (2, 6): 2, (4, 2): 1, (-2, -2): 1, (0, 0): 2, (-2, 2): 2, (-1, -1): 2, (-4, 2): 2}\n"
     ]
    }
   ],
   "source": [
    "trainData = {}\n",
    "entry = []\n",
    "\n",
    "with open(\"train.txt\") as f:\n",
    "    for line in f:\n",
    "        entry = line.split(\" \")\n",
    "        if (entry[2][-1] == '\\n'):\n",
    "            classInfo =  entry[2][:-1]\n",
    "        else:\n",
    "            classInfo =  entry[2]\n",
    "        trainData[(int(entry[0]),int(entry[1]))] = int(classInfo)\n",
    "    print(trainData)"
   ]
  },
  {
   "cell_type": "code",
   "execution_count": 35,
   "metadata": {},
   "outputs": [
    {
     "name": "stdout",
     "output_type": "stream",
     "text": [
      "[2, 3, 3, -1, 4, -2] [2, 1, 3, -3, 2, -2]\n",
      "[-4, 2, 0, -2, -1, -4] [3, 6, 0, 2, -1, 2]\n"
     ]
    }
   ],
   "source": [
    "trainData1x = []\n",
    "trainData1y = []\n",
    "trainData2x = []\n",
    "trainData2y = []\n",
    "\n",
    "for coor , classinfo in trainData.items():\n",
    "    if(classinfo == 1):\n",
    "        trainData1x.append(coor[0]);\n",
    "        trainData1y.append(coor[1]);\n",
    "    else:\n",
    "        trainData2x.append(coor[0]);\n",
    "        trainData2y.append(coor[1]);\n",
    "    \n",
    "print(trainData1x , trainData1y)\n",
    "print(trainData2x , trainData2y)\n"
   ]
  },
  {
   "cell_type": "code",
   "execution_count": 114,
   "metadata": {},
   "outputs": [
    {
     "data": {
      "image/png": "[encoded data removed]",
      "text/plain": [
       "<Figure size 432x288 with 1 Axes>"
      ]
     },
     "metadata": {
      "needs_background": "light"
     },
     "output_type": "display_data"
    }
   ],
   "source": [
    "plt.scatter(trainData1x, trainData1y, color = 'r', marker = \".\", label = 'Train class 1')\n",
    "\n",
    "plt.scatter(trainData2x, trainData2y, color = 'k', marker = \"*\", label = 'Train class 2')\n",
    "\n",
    "plt.xlabel('x - axis')\n",
    "plt.ylabel('y - axis')\n",
    "\n",
    "plt.legend(loc = 'upper right', prop={'size': 10})\n",
    "\n",
    "plt.show()\n"
   ]
  },
  {
   "cell_type": "markdown",
   "metadata": {},
   "source": [
    "**Task 2 :\n",
    "Using a minimum distance classifier with respect to ‘class mean’, classify the test data points by\n",
    "plotting them with the designated class-color but a different marker.**"
   ]
  },
  {
   "cell_type": "code",
   "execution_count": 54,
   "metadata": {},
   "outputs": [
    {
     "name": "stdout",
     "output_type": "stream",
     "text": [
      "1.5 0.5 -1.5 2.0\n"
     ]
    }
   ],
   "source": [
    "classMeanX1 = sum(trainData1x) / len(trainData1x)\n",
    "classMeanY1 = sum(trainData1y) / len(trainData1y)\n",
    "\n",
    "classMeanX2 = sum(trainData2x) / len(trainData2x)\n",
    "classMeanY2 = sum(trainData2y) / len(trainData2y)\n",
    "print(classMeanX1 , classMeanY1 , classMeanX2 , classMeanY2  )"
   ]
  },
  {
   "cell_type": "code",
   "execution_count": 58,
   "metadata": {},
   "outputs": [
    {
     "name": "stdout",
     "output_type": "stream",
     "text": [
      "{(-1, -5): 1, (3, 2): 1, (-2, 1): 2, (8, 2): 1, (6, -1): 1, (0, 2): 1, (-3, 0): 2}\n"
     ]
    }
   ],
   "source": [
    "testData = {}\n",
    "entry = []\n",
    "\n",
    "with open(\"test.txt\") as f:\n",
    "    for line in f:\n",
    "        entry = line.split(\" \")\n",
    "        if (entry[2][-1] == '\\n'):\n",
    "            classInfo =  entry[2][:-1]\n",
    "        else:\n",
    "            classInfo =  entry[2]\n",
    "        testData[(int(entry[0]),int(entry[1]))] = int(classInfo)\n",
    "    print(testData)"
   ]
  },
  {
   "cell_type": "code",
   "execution_count": 60,
   "metadata": {},
   "outputs": [
    {
     "name": "stdout",
     "output_type": "stream",
     "text": [
      "[-1, 3, 8, 6, 0] [-5, 2, 2, -1, 2]\n",
      "[-2, -3] [1, 0]\n"
     ]
    }
   ],
   "source": [
    "testData1x = []\n",
    "testData1y = []\n",
    "testData2x = []\n",
    "testData2y = []\n",
    "\n",
    "for coor , classinfo in testData.items():\n",
    "    if(classinfo == 1):\n",
    "        testData1x.append(coor[0]);\n",
    "        testData1y.append(coor[1]);\n",
    "    else:\n",
    "        testData2x.append(coor[0]);\n",
    "        testData2y.append(coor[1]);\n",
    "    \n",
    "print(testData1x , testData1y)\n",
    "print(testData2x , testData2y)"
   ]
  },
  {
   "cell_type": "code",
   "execution_count": 61,
   "metadata": {},
   "outputs": [
    {
     "data": {
      "text/plain": [
       "{(-1, -5): 1,\n",
       " (3, 2): 1,\n",
       " (-2, 1): 2,\n",
       " (8, 2): 1,\n",
       " (6, -1): 1,\n",
       " (0, 2): 1,\n",
       " (-3, 0): 2}"
      ]
     },
     "execution_count": 61,
     "metadata": {},
     "output_type": "execute_result"
    }
   ],
   "source": [
    "prediction = testData.copy()\n",
    "prediction\n"
   ]
  },
  {
   "cell_type": "code",
   "execution_count": 83,
   "metadata": {},
   "outputs": [],
   "source": [
    "def gofX(point,miu):\n",
    "    value = 0\n",
    "    value = np.dot( np.transpose( miu), point) - .5*np.dot( np.transpose( miu), miu)\n",
    "    \n",
    "    return value;"
   ]
  },
  {
   "cell_type": "code",
   "execution_count": 84,
   "metadata": {},
   "outputs": [],
   "source": [
    "def predictClass(point,miu1 , miu2):\n",
    "    predictedClass = 0\n",
    "    \n",
    "    if(gofX(point,miu1) > gofX(point,miu2)):\n",
    "        return 1\n",
    "    else:\n",
    "        return 2\n",
    "    \n",
    "    return predictedClass\n",
    "    "
   ]
  },
  {
   "cell_type": "code",
   "execution_count": 208,
   "metadata": {},
   "outputs": [
    {
     "name": "stdout",
     "output_type": "stream",
     "text": [
      "[-1 -5] [1.5 0.5] [-1.5  2. ]\n",
      "[3 2] [1.5 0.5] [-1.5  2. ]\n",
      "[-2  1] [1.5 0.5] [-1.5  2. ]\n",
      "[8 2] [1.5 0.5] [-1.5  2. ]\n",
      "[ 6 -1] [1.5 0.5] [-1.5  2. ]\n",
      "[0 2] [1.5 0.5] [-1.5  2. ]\n",
      "[-3  0] [1.5 0.5] [-1.5  2. ]\n"
     ]
    },
    {
     "data": {
      "text/plain": [
       "{(-1, -5): 1,\n",
       " (3, 2): 1,\n",
       " (-2, 1): 2,\n",
       " (8, 2): 1,\n",
       " (6, -1): 1,\n",
       " (0, 2): 2,\n",
       " (-3, 0): 2}"
      ]
     },
     "execution_count": 208,
     "metadata": {},
     "output_type": "execute_result"
    }
   ],
   "source": [
    "import numpy as np\n",
    "\n",
    "miu1 = np.array([classMeanX1 , classMeanY1 ])\n",
    "miu2 = np.array([classMeanX2 , classMeanY2 ])\n",
    "\n",
    "for eachEntry in prediction.keys():\n",
    "    eachEntry = np.array([t for t in eachEntry])\n",
    "    print(eachEntry, miu1 , miu2 )\n",
    "    prediction[eachEntry[0],eachEntry[1] ] = predictClass (eachEntry, miu1 , miu2 )\n",
    "    \n",
    "prediction\n",
    "    "
   ]
  },
  {
   "cell_type": "code",
   "execution_count": 86,
   "metadata": {},
   "outputs": [
    {
     "name": "stdout",
     "output_type": "stream",
     "text": [
      "[-1, 3, 8, 6] [-5, 2, 2, -1]\n",
      "[-2, 0, -3] [1, 2, 0]\n"
     ]
    }
   ],
   "source": [
    "predictionData1x = []\n",
    "predictionData1y = []\n",
    "predictionData2x = []\n",
    "predictionData2y = []\n",
    "\n",
    "for coor , classinfo in prediction.items():\n",
    "    if(classinfo == 1):\n",
    "        predictionData1x.append(coor[0]);\n",
    "        predictionData1y.append(coor[1]);\n",
    "    else:\n",
    "        predictionData2x.append(coor[0]);\n",
    "        predictionData2y.append(coor[1]);\n",
    "    \n",
    "print(predictionData1x , predictionData1y)\n",
    "print(predictionData2x , predictionData2y)"
   ]
  },
  {
   "cell_type": "code",
   "execution_count": 120,
   "metadata": {},
   "outputs": [
    {
     "data": {
      "image/png": "[encoded data removed]",
      "text/plain": [
       "<Figure size 720x432 with 1 Axes>"
      ]
     },
     "metadata": {
      "needs_background": "light"
     },
     "output_type": "display_data"
    }
   ],
   "source": [
    "plt.figure(1,figsize = (10 , 6))\n",
    "\n",
    "plt.scatter(trainData1x, trainData1y, color = 'r', marker = \"o\", label = 'Train class 1')\n",
    "\n",
    "plt.scatter(trainData2x, trainData2y, color = 'k', marker = \"*\", label = 'Train class 2')\n",
    "\n",
    "##means\n",
    "\n",
    "plt.scatter(classMeanX1, classMeanY1, color = 'r', marker = \"1\", label = 'Mean of class 1')\n",
    "\n",
    "plt.scatter(classMeanX2, classMeanY2, color = 'k', marker = \"s\", label = 'Mean of class 2')\n",
    "\n",
    "##prediction\n",
    "\n",
    "plt.scatter(predictionData1x , predictionData1y, color = 'r', marker = \"P\", label = 'Test class 1')\n",
    "\n",
    "plt.scatter(predictionData2x , predictionData2y, color = 'k', marker = \"X\", label = 'Test class 2')\n",
    "\n",
    "\n",
    "\n",
    "plt.xlabel('x - axis')\n",
    "plt.ylabel('y - axis')\n",
    "\n",
    "plt.axis([-5 ,9 ,-6 , 16])\n",
    "\n",
    "plt.legend(loc='upper center', ncol=3)\n",
    "\n",
    "plt.show()"
   ]
  },
  {
   "cell_type": "markdown",
   "metadata": {},
   "source": [
    "**Task 3 :\n",
    "Draw the decision boundary between the two classes**"
   ]
  },
  {
   "cell_type": "code",
   "execution_count": 212,
   "metadata": {},
   "outputs": [
    {
     "name": "stdout",
     "output_type": "stream",
     "text": [
      "[-2.25  1.  ]\n",
      "[-8.75, -6.75, -4.75, -2.75, -0.75, 1.25, 3.25, 5.25, 7.25, 9.25, 11.25, 13.25, 15.25, 17.25]\n"
     ]
    }
   ],
   "source": [
    "decisionBoundaryX = []\n",
    "decisionBoundaryY = []\n",
    "\n",
    "for i in range(-5 , 9):\n",
    "    decisionBoundaryX.append(i)\n",
    "    \n",
    "\n",
    "miuterm = miu1 -  miu2\n",
    "\n",
    "miuX = miu1[0] -  miu2[0]\n",
    "\n",
    "miuY = miu1[1] -  miu2[1]\n",
    "\n",
    "\n",
    "for eachX in decisionBoundaryX:\n",
    "    decisionBoundaryY.append( (0.5 * (((miu1[0] * miu1[0]) + (miu1[1] * miu1[1])) - ((miu2[0] * miu2[0]) + (miu2[1] * miu2[1]))) - (eachX * miuX)) / miuY\n",
    "     )\n",
    "    \n",
    "    \n",
    "    \n",
    "    #decisionBoundaryX\n",
    "\n",
    "print(decisionBoundaryY)\n",
    "\n"
   ]
  },
  {
   "cell_type": "code",
   "execution_count": 223,
   "metadata": {},
   "outputs": [
    {
     "data": {
      "image/png": "[encoded data removed]",
      "text/plain": [
       "<Figure size 864x432 with 1 Axes>"
      ]
     },
     "metadata": {
      "needs_background": "light"
     },
     "output_type": "display_data"
    }
   ],
   "source": [
    "plt.figure(1,figsize = (12 , 6))\n",
    "\n",
    "plt.scatter(trainData1x, trainData1y, color = 'r', marker = \"o\", label = 'Train class 1')\n",
    "\n",
    "plt.scatter(trainData2x, trainData2y, color = 'k', marker = \"*\", label = 'Train class 2')\n",
    "\n",
    "##means\n",
    "\n",
    "plt.scatter(classMeanX1, classMeanY1, color = 'r', marker = \"1\", label = 'Mean of class 1')\n",
    "\n",
    "plt.scatter(classMeanX2, classMeanY2, color = 'k', marker = \"s\", label = 'Mean of class 2')\n",
    "\n",
    "##prediction\n",
    "\n",
    "plt.scatter(predictionData1x , predictionData1y, color = 'r', marker = \"P\", label = 'Test class 1')\n",
    "\n",
    "plt.scatter(predictionData2x , predictionData2y, color = 'k', marker = \"X\", label = 'Test class 2')\n",
    "\n",
    "#decision boundary\n",
    "plt.plot(decisionBoundaryX , decisionBoundaryY, \"--r\", label = 'Decision Boundary')\n",
    "\n",
    "\n",
    "\n",
    "plt.xlabel('x - axis')\n",
    "plt.ylabel('y - axis')\n",
    "\n",
    "plt.axis([-5 ,9 ,-8 , 18])\n",
    "\n",
    "plt.legend(loc='upper center', ncol=3)\n",
    "\n",
    "plt.show()"
   ]
  },
  {
   "cell_type": "markdown",
   "metadata": {},
   "source": [
    "**Task 4 :\n",
    "Find accuracy.**"
   ]
  },
  {
   "cell_type": "code",
   "execution_count": 140,
   "metadata": {},
   "outputs": [],
   "source": [
    "def getAccuracy(prediction , testData):\n",
    "    correct = 0 \n",
    "    for key ,item in prediction.items():\n",
    "        if (item == testData[key]):\n",
    "            correct +=1\n",
    "            \n",
    "    return correct / len(prediction)"
   ]
  },
  {
   "cell_type": "code",
   "execution_count": 150,
   "metadata": {},
   "outputs": [
    {
     "name": "stdout",
     "output_type": "stream",
     "text": [
      "Accuracy 85.71\n"
     ]
    }
   ],
   "source": [
    "print ( \"Accuracy \" + str(format(getAccuracy(prediction , testData)*100, '.2f')))"
   ]
  }
 ],
 "metadata": {
  "kernelspec": {
   "display_name": "Python 3",
   "language": "python",
   "name": "python3"
  },
  "language_info": {
   "codemirror_mode": {
    "name": "ipython",
    "version": 3
   },
   "file_extension": ".py",
   "mimetype": "text/x-python",
   "name": "python",
   "nbconvert_exporter": "python",
   "pygments_lexer": "ipython3",
   "version": "3.8.3"
  }
 },
 "nbformat": 4,
 "nbformat_minor": 4
}
