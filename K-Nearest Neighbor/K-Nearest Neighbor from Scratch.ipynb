{
 "cells": [
  {
   "cell_type": "markdown",
   "metadata": {},
   "source": [
    " **Task 1 :\n",
    "Plot all sample points (train data) from both classes, but samples from the same class should have\n",
    "the same color and marker.**"
   ]
  },
  {
   "cell_type": "code",
   "execution_count": 1,
   "metadata": {},
   "outputs": [],
   "source": [
    "import matplotlib.pyplot as plt"
   ]
  },
  {
   "cell_type": "code",
   "execution_count": 2,
   "metadata": {},
   "outputs": [
    {
     "name": "stdout",
     "output_type": "stream",
     "text": [
      "{(7, 7): 1, (7, 4): 1, (6, 4): 1, (7, 5): 1, (7, 6): 1, (6, 7): 1, (6, 6): 1, (3, 4): 2, (2, 3): 2, (3, 2): 2, (4, 3): 2, (3, 3): 2, (4, 4): 2, (1, 4): 2}\n"
     ]
    }
   ],
   "source": [
    "trainData = {}\n",
    "entry = []\n",
    "\n",
    "with open(\"train_knn.txt\") as f:\n",
    "    for line in f:\n",
    "        entry = line.split(\",\")\n",
    "        if (entry[2][-1] == '\\n'):\n",
    "            classInfo =  entry[2][:-1]\n",
    "        else:\n",
    "            classInfo =  entry[2]\n",
    "        trainData[(int(entry[0]),int(entry[1]))] = int(classInfo)\n",
    "    print(trainData)"
   ]
  },
  {
   "cell_type": "code",
   "execution_count": 3,
   "metadata": {},
   "outputs": [
    {
     "name": "stdout",
     "output_type": "stream",
     "text": [
      "[7, 7, 6, 7, 7, 6, 6] [7, 4, 4, 5, 6, 7, 6]\n",
      "[3, 2, 3, 4, 3, 4, 1] [4, 3, 2, 3, 3, 4, 4]\n"
     ]
    }
   ],
   "source": [
    "trainData1x = []\n",
    "trainData1y = []\n",
    "trainData2x = []\n",
    "trainData2y = []\n",
    "\n",
    "for coor , classinfo in trainData.items():\n",
    "    if(classinfo == 1):\n",
    "        trainData1x.append(coor[0]);\n",
    "        trainData1y.append(coor[1]);\n",
    "    else:\n",
    "        trainData2x.append(coor[0]);\n",
    "        trainData2y.append(coor[1]);\n",
    "    \n",
    "print(trainData1x , trainData1y)\n",
    "print(trainData2x , trainData2y)\n"
   ]
  },
  {
   "cell_type": "code",
   "execution_count": 4,
   "metadata": {},
   "outputs": [
    {
     "data": {
      "image/png": "[encoded data removed]",
      "text/plain": [
       "<Figure size 432x288 with 1 Axes>"
      ]
     },
     "metadata": {
      "needs_background": "light"
     },
     "output_type": "display_data"
    }
   ],
   "source": [
    "plt.scatter(trainData1x, trainData1y, color = 'r', marker = \".\", label = 'Train class 1')\n",
    "\n",
    "plt.scatter(trainData2x, trainData2y, color = 'k', marker = \"*\", label = 'Train class 2')\n",
    "\n",
    "plt.xlabel('x - axis')\n",
    "plt.ylabel('y - axis')\n",
    "\n",
    "plt.legend(loc = 'upper left')\n",
    "\n",
    "plt.show()\n"
   ]
  },
  {
   "cell_type": "markdown",
   "metadata": {},
   "source": [
    "# Task 2\n",
    "\n"
   ]
  },
  {
   "cell_type": "markdown",
   "metadata": {},
   "source": [
    "loading the test data"
   ]
  },
  {
   "cell_type": "code",
   "execution_count": 5,
   "metadata": {},
   "outputs": [
    {
     "name": "stdout",
     "output_type": "stream",
     "text": [
      "{(3, 7): 0, (7, 7): 0, (4, 3): 0, (2, 8): 0, (3, 5): 0, (1, 2): 0, (4, 8): 0, (8, 3): 0, (8, 4): 0}\n"
     ]
    }
   ],
   "source": [
    "testData = {}\n",
    "entry = []\n",
    "\n",
    "with open(\"test_knn.txt\") as f:\n",
    "    for line in f:\n",
    "        entry = line.split(\",\")\n",
    "        if (entry[1][-1] == '\\n'):\n",
    "            entry[1] =  entry[1][:-1]\n",
    "        \n",
    "        classInfo =  0\n",
    "        testData[(int(entry[0]),int(entry[1]))] = int(classInfo)\n",
    "    print(testData)"
   ]
  },
  {
   "cell_type": "code",
   "execution_count": 6,
   "metadata": {},
   "outputs": [],
   "source": [
    "import math"
   ]
  },
  {
   "cell_type": "code",
   "execution_count": 7,
   "metadata": {},
   "outputs": [],
   "source": [
    "def euclidianDistance(queryInstance, trainingSamples):\n",
    "    distance = math.sqrt(math.pow(queryInstance[0] - trainingSamples[0] , 2) + math.pow( queryInstance[1] - trainingSamples[1],2 ) )\n",
    "    \n",
    "    \n",
    "    return distance "
   ]
  },
  {
   "cell_type": "code",
   "execution_count": 8,
   "metadata": {},
   "outputs": [
    {
     "data": {
      "text/plain": [
       "1.4142135623730951"
      ]
     },
     "execution_count": 8,
     "metadata": {},
     "output_type": "execute_result"
    }
   ],
   "source": [
    "euclidianDistance((1,1),(2,2) )"
   ]
  },
  {
   "cell_type": "code",
   "execution_count": 9,
   "metadata": {
    "scrolled": true
   },
   "outputs": [],
   "source": [
    "def getDistancesForOneTestSample(testSample , trainData):\n",
    "    distances = {}\n",
    "    \n",
    "    for trainSample in trainData:\n",
    "        distances[trainSample] = euclidianDistance(testSample , trainSample )\n",
    "\n",
    "    return distances"
   ]
  },
  {
   "cell_type": "code",
   "execution_count": 10,
   "metadata": {},
   "outputs": [],
   "source": [
    "def getSortedDistancesForOneTestSample(testSample , trainData):\n",
    "    distances = getDistancesForOneTestSample(testSample , trainData)\n",
    "    #print(distances)\n",
    "\n",
    "    sortedDistances = {k: v for k, v in sorted(distances.items(), key=lambda item: item[1])}\n",
    "\n",
    "    return sortedDistances"
   ]
  },
  {
   "cell_type": "code",
   "execution_count": 11,
   "metadata": {},
   "outputs": [],
   "source": [
    "def getKNearestNeighborforOneTestSample(k ,testSample , trainData ):\n",
    "    sortedDistences = getSortedDistancesForOneTestSample(testSample , trainData)\n",
    "    sortedDistenceList = list(sortedDistences.keys())\n",
    "    return sortedDistenceList[:k], sortedDistences"
   ]
  },
  {
   "cell_type": "code",
   "execution_count": 12,
   "metadata": {},
   "outputs": [],
   "source": [
    "def getClassForaSingletestSample(k ,testSample , trainData ):\n",
    "    kNearestNeighbors , Distances  = getKNearestNeighborforOneTestSample(k ,testSample , trainData )\n",
    "    kNearestNeighbors , Distances\n",
    "    \n",
    "    classList = []\n",
    "    f = open(\"prediction.txt\", \"a\")\n",
    "    \n",
    "    f.write(\"Test point : \" + str(testSample) + \"\\n\")\n",
    "    print( \"Test point : \" + str(testSample) + \"\\n\")\n",
    "\n",
    "\n",
    "    index = 0\n",
    "    for eachTestItem in kNearestNeighbors:\n",
    "        index += 1 \n",
    "        string =   \"Distance \"  + str(index) +\": \"+str(\"{:.2f}\".format(Distances[eachTestItem]))+ \"   \" + \"class: \" +str(trainData[eachTestItem])+\"\\n\" \n",
    "        print( string)\n",
    "        \n",
    "        f.write(string)\n",
    "        \n",
    "        classList.append(trainData[eachTestItem])\n",
    "    \n",
    "      \n",
    "    \n",
    "    print(classList)\n",
    "    \n",
    "    selectedClass = marorityVote(classList)\n",
    "    print(\"Predicted class:\" , selectedClass)\n",
    "    f.write(\"Predicted class:\" + str(selectedClass) + \"\\n\"  + \"\\n\")\n",
    "    f.close()\n",
    "    \n",
    "    return  selectedClass\n",
    "    \n",
    "    "
   ]
  },
  {
   "cell_type": "code",
   "execution_count": 13,
   "metadata": {},
   "outputs": [],
   "source": [
    "def marorityVote(listofNumbers):\n",
    "    \n",
    "    uniqueValues = set(listofNumbers)\n",
    "    \n",
    "    countDictionary = {}\n",
    "    \n",
    "    count = 0\n",
    "    \n",
    "    for eachuniqueValue in uniqueValues:\n",
    "        for eachElement in listofNumbers:\n",
    "            if(eachuniqueValue == eachElement):\n",
    "                count += 1\n",
    "        countDictionary[eachuniqueValue] = count\n",
    "        count = 0\n",
    "                \n",
    "    sortedCountDictionary = {k: v for k, v in sorted(countDictionary.items(), key=lambda item: item[1])}\n",
    "    decision = list(sortedCountDictionary.keys())[-1]\n",
    "    return decision"
   ]
  },
  {
   "cell_type": "code",
   "execution_count": 14,
   "metadata": {},
   "outputs": [
    {
     "data": {
      "text/plain": [
       "1"
      ]
     },
     "execution_count": 14,
     "metadata": {},
     "output_type": "execute_result"
    }
   ],
   "source": [
    "marorityVote([1, 2, 1,3])"
   ]
  },
  {
   "cell_type": "code",
   "execution_count": 15,
   "metadata": {},
   "outputs": [
    {
     "name": "stdout",
     "output_type": "stream",
     "text": [
      "k = 5\n",
      "Test point : (3, 7)\n",
      "\n",
      "Distance 1: 3.00   class: 1\n",
      "\n",
      "Distance 2: 3.00   class: 2\n",
      "\n",
      "Distance 3: 3.16   class: 1\n",
      "\n",
      "Distance 4: 3.16   class: 2\n",
      "\n",
      "Distance 5: 3.61   class: 2\n",
      "\n",
      "[1, 2, 1, 2, 2]\n",
      "Predicted class: 2\n",
      "Test point : (7, 7)\n",
      "\n",
      "Distance 1: 0.00   class: 1\n",
      "\n",
      "Distance 2: 1.00   class: 1\n",
      "\n",
      "Distance 3: 1.00   class: 1\n",
      "\n",
      "Distance 4: 1.41   class: 1\n",
      "\n",
      "Distance 5: 2.00   class: 1\n",
      "\n",
      "[1, 1, 1, 1, 1]\n",
      "Predicted class: 1\n",
      "Test point : (4, 3)\n",
      "\n",
      "Distance 1: 0.00   class: 2\n",
      "\n",
      "Distance 2: 1.00   class: 2\n",
      "\n",
      "Distance 3: 1.00   class: 2\n",
      "\n",
      "Distance 4: 1.41   class: 2\n",
      "\n",
      "Distance 5: 1.41   class: 2\n",
      "\n",
      "[2, 2, 2, 2, 2]\n",
      "Predicted class: 2\n",
      "Test point : (2, 8)\n",
      "\n",
      "Distance 1: 4.12   class: 1\n",
      "\n",
      "Distance 2: 4.12   class: 2\n",
      "\n",
      "Distance 3: 4.12   class: 2\n",
      "\n",
      "Distance 4: 4.47   class: 1\n",
      "\n",
      "Distance 5: 4.47   class: 2\n",
      "\n",
      "[1, 2, 2, 1, 2]\n",
      "Predicted class: 2\n",
      "Test point : (3, 5)\n",
      "\n",
      "Distance 1: 1.00   class: 2\n",
      "\n",
      "Distance 2: 1.41   class: 2\n",
      "\n",
      "Distance 3: 2.00   class: 2\n",
      "\n",
      "Distance 4: 2.24   class: 2\n",
      "\n",
      "Distance 5: 2.24   class: 2\n",
      "\n",
      "[2, 2, 2, 2, 2]\n",
      "Predicted class: 2\n",
      "Test point : (1, 2)\n",
      "\n",
      "Distance 1: 1.41   class: 2\n",
      "\n",
      "Distance 2: 2.00   class: 2\n",
      "\n",
      "Distance 3: 2.00   class: 2\n",
      "\n",
      "Distance 4: 2.24   class: 2\n",
      "\n",
      "Distance 5: 2.83   class: 2\n",
      "\n",
      "[2, 2, 2, 2, 2]\n",
      "Predicted class: 2\n",
      "Test point : (4, 8)\n",
      "\n",
      "Distance 1: 2.24   class: 1\n",
      "\n",
      "Distance 2: 2.83   class: 1\n",
      "\n",
      "Distance 3: 3.16   class: 1\n",
      "\n",
      "Distance 4: 3.61   class: 1\n",
      "\n",
      "Distance 5: 4.00   class: 2\n",
      "\n",
      "[1, 1, 1, 1, 2]\n",
      "Predicted class: 1\n",
      "Test point : (8, 3)\n",
      "\n",
      "Distance 1: 1.41   class: 1\n",
      "\n",
      "Distance 2: 2.24   class: 1\n",
      "\n",
      "Distance 3: 2.24   class: 1\n",
      "\n",
      "Distance 4: 3.16   class: 1\n",
      "\n",
      "Distance 5: 3.61   class: 1\n",
      "\n",
      "[1, 1, 1, 1, 1]\n",
      "Predicted class: 1\n",
      "Test point : (8, 4)\n",
      "\n",
      "Distance 1: 1.00   class: 1\n",
      "\n",
      "Distance 2: 1.41   class: 1\n",
      "\n",
      "Distance 3: 2.00   class: 1\n",
      "\n",
      "Distance 4: 2.24   class: 1\n",
      "\n",
      "Distance 5: 2.83   class: 1\n",
      "\n",
      "[1, 1, 1, 1, 1]\n",
      "Predicted class: 1\n"
     ]
    },
    {
     "data": {
      "text/plain": [
       "{(3, 7): 2,\n",
       " (7, 7): 1,\n",
       " (4, 3): 2,\n",
       " (2, 8): 2,\n",
       " (3, 5): 2,\n",
       " (1, 2): 2,\n",
       " (4, 8): 1,\n",
       " (8, 3): 1,\n",
       " (8, 4): 1}"
      ]
     },
     "execution_count": 15,
     "metadata": {},
     "output_type": "execute_result"
    }
   ],
   "source": [
    "\n",
    "k = int(input(\"k = \"))\n",
    "\n",
    "for testSample in testData.keys():\n",
    "    testData[testSample] = getClassForaSingletestSample(k ,testSample , trainData )\n",
    "    \n",
    "testData"
   ]
  },
  {
   "cell_type": "markdown",
   "metadata": {},
   "source": [
    "**Plotting the result**"
   ]
  },
  {
   "cell_type": "code",
   "execution_count": 16,
   "metadata": {},
   "outputs": [
    {
     "name": "stdout",
     "output_type": "stream",
     "text": [
      "[7, 4, 8, 8] [7, 8, 3, 4]\n",
      "[3, 4, 2, 3, 1] [7, 3, 8, 5, 2]\n"
     ]
    }
   ],
   "source": [
    "testData1x = []\n",
    "testData1y = []\n",
    "testData2x = []\n",
    "testData2y = []\n",
    "\n",
    "for coor , classinfo in testData.items():\n",
    "    if(classinfo == 1):\n",
    "        testData1x.append(coor[0]);\n",
    "        testData1y.append(coor[1]);\n",
    "    else:\n",
    "        testData2x.append(coor[0]);\n",
    "        testData2y.append(coor[1]);\n",
    "    \n",
    "print(testData1x , testData1y)\n",
    "print(testData2x , testData2y)\n"
   ]
  },
  {
   "cell_type": "code",
   "execution_count": 17,
   "metadata": {},
   "outputs": [
    {
     "data": {
      "image/png": "[encoded data removed]",
      "text/plain": [
       "<Figure size 432x288 with 1 Axes>"
      ]
     },
     "metadata": {
      "needs_background": "light"
     },
     "output_type": "display_data"
    }
   ],
   "source": [
    "plt.scatter(trainData1x, trainData1y, color = 'r', marker = \"o\", label = 'Train class 1')\n",
    "\n",
    "plt.scatter(trainData2x, trainData2y, color = 'k', marker = \"*\", label = 'Train class 2')\n",
    "\n",
    "plt.scatter(testData1x, testData1y, color = 'g', marker = \">\", label = 'Test class 1')\n",
    "\n",
    "plt.scatter(testData2x, testData2y, color = 'b', marker = \"s\", label = 'Test class 2')\n",
    "\n",
    "\n",
    "plt.xlabel('x - axis')\n",
    "plt.ylabel('y - axis')\n",
    "\n",
    "#plt.legend(loc = 'center left')\n",
    "plt.legend(loc='center left', bbox_to_anchor=(.35, 0.65))\n",
    "\n",
    "plt.show()\n"
   ]
  },
  {
   "cell_type": "code",
   "execution_count": null,
   "metadata": {},
   "outputs": [],
   "source": []
  }
 ],
 "metadata": {
  "kernelspec": {
   "display_name": "Python 3",
   "language": "python",
   "name": "python3"
  },
  "language_info": {
   "codemirror_mode": {
    "name": "ipython",
    "version": 3
   },
   "file_extension": ".py",
   "mimetype": "text/x-python",
   "name": "python",
   "nbconvert_exporter": "python",
   "pygments_lexer": "ipython3",
   "version": "3.8.3"
  }
 },
 "nbformat": 4,
 "nbformat_minor": 4
}
